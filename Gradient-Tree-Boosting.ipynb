{
 "cells": [
  {
   "attachments": {},
   "cell_type": "markdown",
   "id": "3379a103",
   "metadata": {},
   "source": [
    "# Gradient Tree Boosting\n",
    "\n",
    "Hallo das ist die Einleitung"
   ]
  },
  {
   "cell_type": "code",
   "execution_count": 2,
   "id": "dc429ab0",
   "metadata": {},
   "outputs": [
    {
     "name": "stdout",
     "output_type": "stream",
     "text": [
      "Hello World!\n",
      "4\n"
     ]
    }
   ],
   "source": [
    "print(\"Hello World!\")\n",
    "print(2**2)"
   ]
  },
  {
   "cell_type": "code",
   "execution_count": null,
   "id": "64ea5002",
   "metadata": {},
   "outputs": [],
   "source": []
  }
 ],
 "metadata": {
  "kernelspec": {
   "display_name": "Python 3 (ipykernel)",
   "language": "python",
   "name": "python3"
  },
  "language_info": {
   "codemirror_mode": {
    "name": "ipython",
    "version": 3
   },
   "file_extension": ".py",
   "mimetype": "text/x-python",
   "name": "python",
   "nbconvert_exporter": "python",
   "pygments_lexer": "ipython3",
   "version": "3.10.9"
  }
 },
 "nbformat": 4,
 "nbformat_minor": 5
}
